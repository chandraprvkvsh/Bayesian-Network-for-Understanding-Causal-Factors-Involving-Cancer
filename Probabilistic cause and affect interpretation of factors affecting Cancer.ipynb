{
 "cells": [
  {
   "cell_type": "code",
   "execution_count": null,
   "metadata": {
    "colab": {
     "base_uri": "https://localhost:8080/",
     "height": 374
    },
    "colab_type": "code",
    "id": "8WvbI0Nnpi8C",
    "outputId": "9a2e8806-bd69-484e-b637-ae2cfc846ed2"
   },
   "outputs": [],
   "source": [
    "import numpy as np\n",
    "import pandas as pd\n",
    "from pgmpy.models import BayesianModel\n",
    "from pgmpy.estimators import MaximumLikelihoodEstimator\n",
    "df=pd.read_csv('Data.csv')\n",
    "\n",
    "model=BayesianModel()\n",
    "model.add_edge('asia','tub')\n",
    "model.add_edge('tub','either')\n",
    "model.add_edge('smoke','lung')\n",
    "model.add_edge('smoke','bronc')\n",
    "model.add_edge('lung','either')\n",
    "model.add_edge('either','xray')\n",
    "model.add_edge('either','dysp')\n",
    "model.add_edge('bronc','dysp')\n",
    "\n",
    "model.fit(df, estimator=MaximumLikelihoodEstimator)\n",
    "model.get_cpds()\n",
    "\n",
    "\n",
    "from pgmpy.inference import VariableElimination\n",
    "infer = VariableElimination(model)\n",
    "a=infer.query(['tub'],evidence={'dysp': 0})['tub']\n",
    "b=infer.query(['xray'],evidence={'asia': 1,'lung':1})['xray']\n",
    "c=infer.query(['bronc'],evidence={'dysp': 1,'asia':1,'either':0})['bronc']\n",
    "\n",
    "\n",
    "print(np.argmax(np.round(a.values)))\n",
    "print(np.argmax(np.round(b.values)))\n",
    "print(np.argmax(np.round(c.values)))\n",
    "\n",
    "x=(np.argmax(np.round(a.values)))\n",
    "y=(np.argmax(np.round(b.values)))\n",
    "z=(np.argmax(np.round(c.values)))\n",
    "print(x,y,z)\n",
    "\n",
    "data = [['tub','xray','bronc'],[x,y,z]]\n",
    "result = pd.DataFrame(data,columns=['Query1','Query2','Query3']) \n",
    "result.to_csv('output.csv', index=False)"
   ]
  },
  {
   "cell_type": "code",
   "execution_count": null,
   "metadata": {},
   "outputs": [],
   "source": []
  }
 ],
 "metadata": {
  "colab": {
   "name": "Untitled0.ipynb",
   "provenance": [],
   "toc_visible": true
  },
  "kernelspec": {
   "display_name": "Python 3",
   "language": "python",
   "name": "python3"
  },
  "language_info": {
   "codemirror_mode": {
    "name": "ipython",
    "version": 3
   },
   "file_extension": ".py",
   "mimetype": "text/x-python",
   "name": "python",
   "nbconvert_exporter": "python",
   "pygments_lexer": "ipython3",
   "version": "3.7.6"
  }
 },
 "nbformat": 4,
 "nbformat_minor": 1
}
